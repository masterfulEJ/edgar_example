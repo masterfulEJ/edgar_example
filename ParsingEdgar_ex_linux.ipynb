{
 "cells": [
  {
   "cell_type": "code",
   "execution_count": 1,
   "metadata": {},
   "outputs": [],
   "source": [
    "import os\n",
    "import edgar\n",
    "import subprocess\n",
    "import pandas as pd"
   ]
  },
  {
   "cell_type": "code",
   "execution_count": 2,
   "metadata": {
    "scrolled": true
   },
   "outputs": [
    {
     "name": "stdout",
     "output_type": "stream",
     "text": [
      "2018-08-15 15:39:53,153\n",
      "DEBUG\n",
      "downloads will be saved to unload\n",
      "2018-08-15 15:39:53,153\n",
      "DEBUG\n",
      "downloading files since 2017\n",
      "2018-08-15 15:39:53,153\n",
      "INFO\n",
      "7 index files to retrieve\n",
      "2018-08-15 15:39:53,153\n",
      "DEBUG\n",
      "worker count: 4\n",
      "2018-08-15 15:39:54,842\n",
      "INFO\n",
      "> downloaded https://www.sec.gov/Archives/edgar/full-index/2017/QTR4/master.zip to unload/2017-QTR4.tsv\n",
      "2018-08-15 15:39:54,870\n",
      "INFO\n",
      "> downloaded https://www.sec.gov/Archives/edgar/full-index/2018/QTR3/master.zip to unload/2018-QTR3.tsv\n",
      "2018-08-15 15:39:55,306\n",
      "INFO\n",
      "> downloaded https://www.sec.gov/Archives/edgar/full-index/2018/QTR2/master.zip to unload/2018-QTR2.tsv\n",
      "2018-08-15 15:39:56,161\n",
      "INFO\n",
      "> downloaded https://www.sec.gov/Archives/edgar/full-index/2017/QTR2/master.zip to unload/2017-QTR2.tsv\n",
      "2018-08-15 15:39:56,671\n",
      "INFO\n",
      "> downloaded https://www.sec.gov/Archives/edgar/full-index/2017/QTR3/master.zip to unload/2017-QTR3.tsv\n",
      "2018-08-15 15:39:56,842\n",
      "INFO\n",
      "> downloaded https://www.sec.gov/Archives/edgar/full-index/2018/QTR1/master.zip to unload/2018-QTR1.tsv\n",
      "2018-08-15 15:39:57,176\n",
      "INFO\n",
      "> downloaded https://www.sec.gov/Archives/edgar/full-index/2017/QTR1/master.zip to unload/2017-QTR1.tsv\n",
      "2018-08-15 15:39:57,282\n",
      "INFO\n",
      "complete\n",
      "2018-08-15 15:39:57,283\n",
      "INFO\n",
      "Files downloaded in unload\n",
      "\n"
     ]
    }
   ],
   "source": [
    "# unload files into 'unload' folder\n",
    "folder = 'unload'\n",
    "startYear = '2017'\n",
    "cmd = f'python run.py -y {startYear} -d {folder}'\n",
    "\n",
    "process = subprocess.Popen(cmd.split(), stdout=subprocess.PIPE)\n",
    "output, error = process.communicate()\n",
    "print('\\n'.join(output.decode(\"utf-8\").split(' - ')))"
   ]
  },
  {
   "cell_type": "code",
   "execution_count": 3,
   "metadata": {},
   "outputs": [
    {
     "name": "stdout",
     "output_type": "stream",
     "text": [
      "2017-QTR2.tsv\n",
      "2017-QTR4.tsv\n",
      "2017-QTR3.tsv\n",
      "2018-QTR2.tsv\n",
      "2018-QTR3.tsv\n",
      "2018-QTR1.tsv\n",
      "2017-QTR1.tsv\n"
     ]
    }
   ],
   "source": [
    "# merge unloaded files into master index in 'mstrIdx' folder\n",
    "mstr_folder = 'mstrIdx'\n",
    "os.makedirs(mstr_folder, exist_ok=True)\n",
    "# cmd = f'cat {folder}/*.tsv > {mstr_folder}/master.tsv'\n",
    "\n",
    "file_lst = [x for x in os.listdir(folder) if x[-4:]=='.tsv']\n",
    "with open(f'{mstr_folder}/master.tsv', 'w') as f:\n",
    "    for fname in file_lst:\n",
    "        with open(f'{folder}/{fname}') as infile:\n",
    "            for line in infile:\n",
    "                f.write(line)\n",
    "        print(fname)"
   ]
  },
  {
   "cell_type": "code",
   "execution_count": 4,
   "metadata": {},
   "outputs": [],
   "source": [
    "# Select security and find its index\n",
    "code = '1000045'\n",
    "idx_dir = 'idx'\n",
    "os.makedirs(idx_dir, exist_ok=True)\n",
    "\n",
    "idx_list = []\n",
    "for file in [x for x in os.listdir(folder) if x[-4:]=='.tsv']:\n",
    "    with open(f'{folder}/{file}') as f:\n",
    "        for line in f:\n",
    "            if code in line:\n",
    "                idx_list.append(line)\n",
    "idx_list = [x.split('|') for x in idx_list]"
   ]
  },
  {
   "cell_type": "code",
   "execution_count": 5,
   "metadata": {},
   "outputs": [
    {
     "name": "stdout",
     "output_type": "stream",
     "text": [
      "      Code                    Name fileType  reportDate  \\\n",
      "0  1000045  NICHOLAS FINANCIAL INC     10-K  2017-06-14   \n",
      "1  1000045  NICHOLAS FINANCIAL INC        4  2017-05-24   \n",
      "2  1000045  NICHOLAS FINANCIAL INC        4  2017-05-30   \n",
      "3  1000045  NICHOLAS FINANCIAL INC        4  2017-05-30   \n",
      "4  1000045  NICHOLAS FINANCIAL INC        4  2017-05-30   \n",
      "\n",
      "                                      raw_path  \\\n",
      "0  edgar/data/1000045/0001193125-17-203193.txt   \n",
      "1  edgar/data/1000045/0001398344-17-006781.txt   \n",
      "2  edgar/data/1000045/0001000045-17-000001.txt   \n",
      "3  edgar/data/1000045/0001000045-17-000002.txt   \n",
      "4  edgar/data/1000045/0001000045-17-000003.txt   \n",
      "\n",
      "                                                 url  \n",
      "0  edgar/data/1000045/0001193125-17-203193-index....  \n",
      "1  edgar/data/1000045/0001398344-17-006781-index....  \n",
      "2  edgar/data/1000045/0001000045-17-000001-index....  \n",
      "3  edgar/data/1000045/0001000045-17-000002-index....  \n",
      "4  edgar/data/1000045/0001000045-17-000003-index....  \n"
     ]
    }
   ],
   "source": [
    "idxDF = pd.DataFrame(idx_list, columns=['Code', 'Name', 'fileType', 'reportDate', 'raw_path', 'url'])\n",
    "print(idxDF.head())"
   ]
  },
  {
   "cell_type": "code",
   "execution_count": 6,
   "metadata": {},
   "outputs": [
    {
     "data": {
      "text/plain": [
       "array(['10-K', '4', '8-K', 'CORRESP', 'SC 13D/A', 'UPLOAD', '10-Q', '3',\n",
       "       '4/A', 'DEF 14A', 'SC 13G/A', 'SC 13G', 'SC 13D'], dtype=object)"
      ]
     },
     "execution_count": 6,
     "metadata": {},
     "output_type": "execute_result"
    }
   ],
   "source": [
    "idxDF['fileType'].unique()"
   ]
  },
  {
   "cell_type": "markdown",
   "metadata": {},
   "source": [
    "#### 10-Q"
   ]
  },
  {
   "cell_type": "code",
   "execution_count": 7,
   "metadata": {},
   "outputs": [
    {
     "name": "stdout",
     "output_type": "stream",
     "text": [
      "   index     Code                    Name fileType  reportDate  \\\n",
      "0     16  1000045  NICHOLAS FINANCIAL INC     10-Q  2017-11-09   \n",
      "1     28  1000045  NICHOLAS FINANCIAL INC     10-Q  2017-08-09   \n",
      "2     62  1000045  NICHOLAS FINANCIAL INC     10-Q  2018-08-14   \n",
      "3     73  1000045  NICHOLAS FINANCIAL INC     10-Q  2018-02-09   \n",
      "4     87  1000045  NICHOLAS FINANCIAL INC     10-Q  2017-02-09   \n",
      "\n",
      "                                      raw_path  \\\n",
      "0  edgar/data/1000045/0001193125-17-338757.txt   \n",
      "1  edgar/data/1000045/0001193125-17-252199.txt   \n",
      "2  edgar/data/1000045/0001193125-18-248315.txt   \n",
      "3  edgar/data/1000045/0001193125-18-037381.txt   \n",
      "4  edgar/data/1000045/0001193125-17-035551.txt   \n",
      "\n",
      "                                                 url  \n",
      "0  edgar/data/1000045/0001193125-17-338757-index....  \n",
      "1  edgar/data/1000045/0001193125-17-252199-index....  \n",
      "2  edgar/data/1000045/0001193125-18-248315-index....  \n",
      "3  edgar/data/1000045/0001193125-18-037381-index....  \n",
      "4  edgar/data/1000045/0001193125-17-035551-index....  \n"
     ]
    }
   ],
   "source": [
    "filing_10q_lst = idxDF.loc[idxDF['fileType']=='10-Q'].reset_index()\n",
    "print(filing_10q_lst)"
   ]
  },
  {
   "cell_type": "code",
   "execution_count": 8,
   "metadata": {},
   "outputs": [
    {
     "name": "stdout",
     "output_type": "stream",
     "text": [
      "curl https://www.sec.gov/Archives/edgar/data/1000045/0001193125-17-338757.txt --output data/10-Q/1000045/1000045_20171109.html\n",
      "curl https://www.sec.gov/Archives/edgar/data/1000045/0001193125-17-252199.txt --output data/10-Q/1000045/1000045_20170809.html\n",
      "curl https://www.sec.gov/Archives/edgar/data/1000045/0001193125-18-248315.txt --output data/10-Q/1000045/1000045_20180814.html\n",
      "curl https://www.sec.gov/Archives/edgar/data/1000045/0001193125-18-037381.txt --output data/10-Q/1000045/1000045_20180209.html\n",
      "curl https://www.sec.gov/Archives/edgar/data/1000045/0001193125-17-035551.txt --output data/10-Q/1000045/1000045_20170209.html\n"
     ]
    }
   ],
   "source": [
    "tmp_lst = filing_10q_lst.T.to_dict()\n",
    "for i in tmp_lst:\n",
    "    init_ = 'https://www.sec.gov/Archives'\n",
    "    url_path = '/'.join([init_, tmp_lst[i]['raw_path']])\n",
    "    date_ = tmp_lst[i]['reportDate'].replace('-', '')\n",
    "    data_root = 'data/' + str(tmp_lst[i]['fileType'])\n",
    "    data_folder = '/'.join([data_root, code])\n",
    "    os.makedirs(data_folder, exist_ok=True)\n",
    "    cmd = f'curl {url_path} --output {data_folder}/{code}_{date_}.html'\n",
    "    print(cmd)\n",
    "\n",
    "    process = subprocess.Popen(cmd.split(), stdout=subprocess.PIPE)\n",
    "    output, error = process.communicate()"
   ]
  },
  {
   "cell_type": "markdown",
   "metadata": {},
   "source": [
    "#### 10-K"
   ]
  },
  {
   "cell_type": "code",
   "execution_count": 9,
   "metadata": {},
   "outputs": [
    {
     "name": "stdout",
     "output_type": "stream",
     "text": [
      "   index     Code                    Name fileType  reportDate  \\\n",
      "0      0  1000045  NICHOLAS FINANCIAL INC     10-K  2017-06-14   \n",
      "1     54  1000045  NICHOLAS FINANCIAL INC     10-K  2018-06-27   \n",
      "\n",
      "                                      raw_path  \\\n",
      "0  edgar/data/1000045/0001193125-17-203193.txt   \n",
      "1  edgar/data/1000045/0001193125-18-205637.txt   \n",
      "\n",
      "                                                 url  \n",
      "0  edgar/data/1000045/0001193125-17-203193-index....  \n",
      "1  edgar/data/1000045/0001193125-18-205637-index....  \n"
     ]
    }
   ],
   "source": [
    "filing_10k_lst = idxDF.loc[idxDF['fileType']=='10-K'].reset_index()\n",
    "print(filing_10k_lst)"
   ]
  },
  {
   "cell_type": "code",
   "execution_count": 10,
   "metadata": {},
   "outputs": [
    {
     "name": "stdout",
     "output_type": "stream",
     "text": [
      "curl https://www.sec.gov/Archives/edgar/data/1000045/0001193125-17-203193.txt --output data/10-K/1000045/1000045_20170614.html\n",
      "curl https://www.sec.gov/Archives/edgar/data/1000045/0001193125-18-205637.txt --output data/10-K/1000045/1000045_20180627.html\n"
     ]
    }
   ],
   "source": [
    "tmp_lst = filing_10k_lst.T.to_dict()\n",
    "for i in tmp_lst:\n",
    "    init_ = 'https://www.sec.gov/Archives'\n",
    "    url_path = '/'.join([init_, tmp_lst[i]['raw_path']])\n",
    "    date_ = tmp_lst[i]['reportDate'].replace('-', '')\n",
    "    data_root = 'data/' + str(tmp_lst[i]['fileType'])\n",
    "    data_folder = '/'.join([data_root, code])\n",
    "    os.makedirs(data_folder, exist_ok=True)\n",
    "    cmd = f'curl {url_path} --output {data_folder}/{code}_{date_}.html'\n",
    "    print(cmd)\n",
    "\n",
    "    process = subprocess.Popen(cmd.split(), stdout=subprocess.PIPE)\n",
    "    output, error = process.communicate()"
   ]
  }
 ],
 "metadata": {
  "kernelspec": {
   "display_name": "Python 3",
   "language": "python",
   "name": "python3"
  },
  "language_info": {
   "codemirror_mode": {
    "name": "ipython",
    "version": 3
   },
   "file_extension": ".py",
   "mimetype": "text/x-python",
   "name": "python",
   "nbconvert_exporter": "python",
   "pygments_lexer": "ipython3",
   "version": "3.6.5"
  }
 },
 "nbformat": 4,
 "nbformat_minor": 2
}

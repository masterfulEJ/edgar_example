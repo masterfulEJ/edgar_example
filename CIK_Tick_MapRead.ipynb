{
 "cells": [
  {
   "cell_type": "code",
   "execution_count": 1,
   "metadata": {},
   "outputs": [],
   "source": [
    "import numpy as np\n",
    "import pandas as pd"
   ]
  },
  {
   "cell_type": "code",
   "execution_count": null,
   "metadata": {},
   "outputs": [],
   "source": [
    "# http://rankandfiled.com/#/data/tickers"
   ]
  },
  {
   "cell_type": "code",
   "execution_count": 6,
   "metadata": {},
   "outputs": [
    {
     "name": "stdout",
     "output_type": "stream",
     "text": [
      "       CIK Ticker                              Name Exchange     SIC Business  \\\n",
      "0  1090872      A          Agilent Technologies Inc     NYSE  3825.0       CA   \n",
      "1     4281     AA                         Alcoa Inc     NYSE  3350.0       PA   \n",
      "2  1332552  AAACU  Asia Automotive Acquisition Corp      NaN  6770.0       DE   \n",
      "3  1287145   AABB                Asia Broadband Inc      OTC  8200.0       GA   \n",
      "4  1024015   AABC        Access Anytime Bancorp Inc      NaN  6035.0       NM   \n",
      "\n",
      "  Incorporated          IRS  \n",
      "0           DE  770518772.0  \n",
      "1           PA  250317820.0  \n",
      "2           DE  203022522.0  \n",
      "3           NV  721569126.0  \n",
      "4           DE  850444597.0  \n"
     ]
    }
   ],
   "source": [
    "cik_tick_map = pd.read_csv('cik_ticker.csv', header=0, sep='|')\n",
    "print(cik_tick_map.head())"
   ]
  },
  {
   "cell_type": "code",
   "execution_count": null,
   "metadata": {},
   "outputs": [],
   "source": []
  }
 ],
 "metadata": {
  "kernelspec": {
   "display_name": "Python 3",
   "language": "python",
   "name": "python3"
  },
  "language_info": {
   "codemirror_mode": {
    "name": "ipython",
    "version": 3
   },
   "file_extension": ".py",
   "mimetype": "text/x-python",
   "name": "python",
   "nbconvert_exporter": "python",
   "pygments_lexer": "ipython3",
   "version": "3.6.5"
  }
 },
 "nbformat": 4,
 "nbformat_minor": 2
}

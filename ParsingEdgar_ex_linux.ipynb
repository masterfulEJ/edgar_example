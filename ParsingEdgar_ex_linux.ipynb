{
 "cells": [
  {
   "cell_type": "code",
   "execution_count": 1,
   "metadata": {},
   "outputs": [],
   "source": [
    "import os\n",
    "import re\n",
    "import edgar\n",
    "import subprocess\n",
    "import pandas as pd"
   ]
  },
  {
   "cell_type": "code",
   "execution_count": 2,
   "metadata": {},
   "outputs": [
    {
     "name": "stdout",
     "output_type": "stream",
     "text": [
      "C:\\Users\\eunja\\Anaconda3\\envs\\edgar\\python.exe\n",
      "3.6.5 |Anaconda, Inc.| (default, Mar 29 2018, 13:32:41) [MSC v.1900 64 bit (AMD64)]\n",
      "sys.version_info(major=3, minor=6, micro=5, releaselevel='final', serial=0)\n"
     ]
    }
   ],
   "source": [
    "import sys\n",
    "print(sys.executable)\n",
    "print(sys.version)\n",
    "print(sys.version_info)"
   ]
  },
  {
   "cell_type": "code",
   "execution_count": 3,
   "metadata": {
    "scrolled": true
   },
   "outputs": [
    {
     "name": "stdout",
     "output_type": "stream",
     "text": [
<<<<<<< HEAD
      "2018-08-16 17:29:05,942\n",
      "DEBUG\n",
      "downloads will be saved to unload\n",
      "2018-08-16 17:29:05,942\n",
      "DEBUG\n",
      "downloading files since 2017\n",
      "2018-08-16 17:29:05,942\n",
      "INFO\n",
      "7 index files to retrieve\n",
      "2018-08-16 17:29:05,942\n",
      "DEBUG\n",
      "worker count: 4\n",
      "2018-08-16 17:29:09,888\n",
      "INFO\n",
      "> downloaded https://www.sec.gov/Archives/edgar/full-index/2018/QTR3/master.zip to unload/2018-QTR3.tsv\n",
      "2018-08-16 17:29:13,706\n",
      "INFO\n",
      "> downloaded https://www.sec.gov/Archives/edgar/full-index/2018/QTR1/master.zip to unload/2018-QTR1.tsv\n",
      "2018-08-16 17:29:14,232\n",
      "INFO\n",
      "> downloaded https://www.sec.gov/Archives/edgar/full-index/2018/QTR2/master.zip to unload/2018-QTR2.tsv\n",
      "2018-08-16 17:29:17,443\n",
      "INFO\n",
      "> downloaded https://www.sec.gov/Archives/edgar/full-index/2017/QTR3/master.zip to unload/2017-QTR3.tsv\n",
      "2018-08-16 17:29:17,535\n",
      "INFO\n",
      "> downloaded https://www.sec.gov/Archives/edgar/full-index/2017/QTR4/master.zip to unload/2017-QTR4.tsv\n",
      "2018-08-16 17:29:21,080\n",
      "INFO\n",
      "> downloaded https://www.sec.gov/Archives/edgar/full-index/2017/QTR2/master.zip to unload/2017-QTR2.tsv\n",
      "2018-08-16 17:29:21,378\n",
      "INFO\n",
      "> downloaded https://www.sec.gov/Archives/edgar/full-index/2017/QTR1/master.zip to unload/2017-QTR1.tsv\n",
      "2018-08-16 17:29:21,389\n",
      "INFO\n",
      "complete\n",
      "2018-08-16 17:29:21,389\n",
      "INFO\n",
      "Files downloaded in unload\n",
=======
      "2018-08-15 21:37:29,131\n",
      "DEBUG\n",
      "downloads will be saved to unload\r\n",
      "2018-08-15 21:37:29,131\n",
      "DEBUG\n",
      "downloading files since 2017\r\n",
      "2018-08-15 21:37:29,131\n",
      "INFO\n",
      "7 index files to retrieve\r\n",
      "2018-08-15 21:37:29,131\n",
      "DEBUG\n",
      "worker count: 8\r\n",
      "2018-08-15 21:37:31,235\n",
      "INFO\n",
      "> downloaded https://www.sec.gov/Archives/edgar/full-index/2018/QTR1/master.zip to unload/2018-QTR1.tsv\r\n",
      "2018-08-15 21:37:31,277\n",
      "INFO\n",
      "> downloaded https://www.sec.gov/Archives/edgar/full-index/2017/QTR1/master.zip to unload/2017-QTR1.tsv\r\n",
      "2018-08-15 21:37:31,279\n",
      "INFO\n",
      "> downloaded https://www.sec.gov/Archives/edgar/full-index/2018/QTR2/master.zip to unload/2018-QTR2.tsv\r\n",
      "2018-08-15 21:37:31,339\n",
      "INFO\n",
      "> downloaded https://www.sec.gov/Archives/edgar/full-index/2018/QTR3/master.zip to unload/2018-QTR3.tsv\r\n",
      "2018-08-15 21:37:31,492\n",
      "INFO\n",
      "> downloaded https://www.sec.gov/Archives/edgar/full-index/2017/QTR2/master.zip to unload/2017-QTR2.tsv\r\n",
      "2018-08-15 21:37:32,696\n",
      "INFO\n",
      "> downloaded https://www.sec.gov/Archives/edgar/full-index/2017/QTR4/master.zip to unload/2017-QTR4.tsv\r\n",
      "2018-08-15 21:37:32,813\n",
      "INFO\n",
      "complete\r\n",
      "2018-08-15 21:37:32,814\n",
      "INFO\n",
      "Files downloaded in unload\r\n",
>>>>>>> 46fb8b1d3fd5c7b51c91827edb94e1e606b9ed6e
      "\n"
     ]
    }
   ],
   "source": [
    "# unload files into 'unload' folder\n",
    "folder = 'unload'\n",
    "startYear = '2017'\n",
    "cmd = f'python run.py -y {startYear} -d {folder}'\n",
    "\n",
    "process = subprocess.Popen(cmd.split(), stdout=subprocess.PIPE)\n",
    "output, error = process.communicate()\n",
    "print('\\n'.join(output.decode(\"utf-8\").split(' - ')))"
   ]
  },
  {
   "cell_type": "code",
   "execution_count": 68,
   "metadata": {},
   "outputs": [],
   "source": [
    "# pattern = r'^\\d{4}-QTR\\d\\.tsv'\n",
    "def edgarPattern(year=None, qtr=None):\n",
    "    pattern = r'^\\d{4}-QTR\\d\\.tsv'\n",
    "    if year is not None:\n",
    "        if isinstance(year, int):\n",
    "            year = str(year)\n",
    "        assert (re.match(r'\\d{4}', year) is not None) & (len(year) == 4), (\n",
    "            \"'year' must be 4-digit integer or string\")\n",
    "    if qtr is not None:\n",
    "        assert (int(qtr) > 0) & (int(qtr) < 5), (\n",
    "            \"'qtr' must be 1-digit integer between 1 and 4\")\n",
    "    \n",
    "    if year is not None:\n",
    "        pattern = pattern.replace('\\d{4}', str(year))\n",
    "    if qtr is not None:\n",
    "        pattern = pattern.replace('QTR\\d', 'QTR' + str(qtr))\n",
    "    return pattern"
   ]
  },
  {
   "cell_type": "code",
   "execution_count": 39,
   "metadata": {},
   "outputs": [
    {
     "name": "stdout",
     "output_type": "stream",
     "text": [
      "2017-QTR1.tsv\n",
      "2017-QTR2.tsv\n",
      "2017-QTR3.tsv\n",
      "2017-QTR4.tsv\n",
      "2018-QTR1.tsv\n",
      "2018-QTR2.tsv\n",
      "2018-QTR3.tsv\n"
     ]
    }
   ],
   "source": [
    "# merge unloaded files into master index in 'mstrIdx' folder\n",
    "mstr_folder = 'mstrIdx'\n",
    "os.makedirs(mstr_folder, exist_ok=True)\n",
    "# cmd = f'cat {folder}/*.tsv > {mstr_folder}/master.tsv'\n",
    "\n",
    "# file_lst = [x for x in os.listdir(folder) if x[-4:]=='.tsv']\n",
    "file_lst = [x for x in os.listdir(folder) if re.match(r'^.+\\.tsv$', x)]\n",
    "with open(f'{mstr_folder}/master.tsv', 'w') as f:\n",
    "    for fname in file_lst:\n",
    "        with open(f'{folder}/{fname}') as infile:\n",
    "            for line in infile:\n",
    "                f.write(line)\n",
    "        print(fname)"
   ]
  },
  {
   "cell_type": "code",
   "execution_count": 37,
   "metadata": {},
   "outputs": [
    {
     "name": "stdout",
     "output_type": "stream",
     "text": [
      "goog | found: #8 | 0001652044\n",
      "aapl | found: #7 | 0000320193\n"
     ]
    },
    {
     "data": {
      "text/plain": [
       "{'goog': '0001652044', 'aapl': '0000320193'}"
      ]
     },
     "execution_count": 4,
     "metadata": {},
     "output_type": "execute_result"
    }
   ],
   "source": [
    "from func_tickSearch import cikftick\n",
    "cikftick()"
   ]
  },
  {
   "cell_type": "code",
   "execution_count": 18,
   "metadata": {},
   "outputs": [],
   "source": [
    "# Select security and find its index\n",
    "code = '0001652044'\n",
    "idx_dir = 'idx'\n",
    "os.makedirs(idx_dir, exist_ok=True)\n",
    "\n",
    "idx_list = []\n",
    "file_lst = [x for x in os.listdir(folder) if re.match(r'^.+\\.tsv$', x)]\n",
    "for file in file_lst:\n",
    "    with open(f'{folder}/{file}') as f:\n",
    "        for line in f:\n",
    "            if code.lstrip('0') in line:\n",
    "                idx_list.append(line)\n",
    "idx_list = [x.split('|') for x in idx_list]"
   ]
  },
  {
   "cell_type": "code",
<<<<<<< HEAD
   "execution_count": 19,
=======
   "execution_count": 38,
>>>>>>> 46fb8b1d3fd5c7b51c91827edb94e1e606b9ed6e
   "metadata": {},
   "outputs": [
    {
     "name": "stdout",
     "output_type": "stream",
     "text": [
<<<<<<< HEAD
      "      Code           Name fileType  reportDate  \\\n",
      "0  1652044  Alphabet Inc.     10-Q  2017-05-02   \n",
      "1  1652044  Alphabet Inc.        4  2017-04-04   \n",
      "2  1652044  Alphabet Inc.        4  2017-04-05   \n",
      "3  1652044  Alphabet Inc.        4  2017-04-12   \n",
      "4  1652044  Alphabet Inc.        4  2017-04-19   \n",
      "\n",
      "                                      raw_path  \\\n",
      "0  edgar/data/1652044/0001652044-17-000014.txt   \n",
      "1  edgar/data/1652044/0001209191-17-024496.txt   \n",
      "2  edgar/data/1652044/0001209191-17-025851.txt   \n",
      "3  edgar/data/1652044/0001209191-17-026715.txt   \n",
      "4  edgar/data/1652044/0001209191-17-027590.txt   \n",
      "\n",
      "                                                 url  \n",
      "0  edgar/data/1652044/0001652044-17-000014-index....  \n",
      "1  edgar/data/1652044/0001209191-17-024496-index....  \n",
      "2  edgar/data/1652044/0001209191-17-025851-index....  \n",
      "3  edgar/data/1652044/0001209191-17-026715-index....  \n",
      "4  edgar/data/1652044/0001209191-17-027590-index....  \n"
=======
      "      Code                    Name fileType  reportDate  \\\n",
      "0  1000045  NICHOLAS FINANCIAL INC     10-Q  2017-02-09   \n",
      "1  1000045  NICHOLAS FINANCIAL INC        3  2017-01-05   \n",
      "2  1000045  NICHOLAS FINANCIAL INC        4  2017-01-05   \n",
      "3  1000045  NICHOLAS FINANCIAL INC        4  2017-01-09   \n",
      "4  1000045  NICHOLAS FINANCIAL INC        4  2017-01-12   \n",
      "\n",
      "                                      raw_path  \\\n",
      "0  edgar/data/1000045/0001193125-17-035551.txt   \n",
      "1  edgar/data/1000045/0001398344-17-000151.txt   \n",
      "2  edgar/data/1000045/0001398344-17-000154.txt   \n",
      "3  edgar/data/1000045/0001398344-17-000309.txt   \n",
      "4  edgar/data/1000045/0001398344-17-000516.txt   \n",
      "\n",
      "                                                 url  \n",
      "0  edgar/data/1000045/0001193125-17-035551-index....  \n",
      "1  edgar/data/1000045/0001398344-17-000151-index....  \n",
      "2  edgar/data/1000045/0001398344-17-000154-index....  \n",
      "3  edgar/data/1000045/0001398344-17-000309-index....  \n",
      "4  edgar/data/1000045/0001398344-17-000516-index....  \n"
>>>>>>> 46fb8b1d3fd5c7b51c91827edb94e1e606b9ed6e
     ]
    }
   ],
   "source": [
    "idxDF = pd.DataFrame(idx_list, columns=['Code', 'Name', 'fileType', 'reportDate', 'raw_path', 'url'])\n",
    "print(idxDF.head())"
   ]
  },
  {
   "cell_type": "code",
<<<<<<< HEAD
   "execution_count": 20,
=======
   "execution_count": 9,
>>>>>>> 46fb8b1d3fd5c7b51c91827edb94e1e606b9ed6e
   "metadata": {},
   "outputs": [
    {
     "data": {
      "text/plain": [
<<<<<<< HEAD
       "array(['10-Q', '4', '8-K', 'DEF 14A', 'DEFA14A', 'PX14A6G', 'SD', '3',\n",
       "       'CORRESP', 'UPLOAD', 'S-8', '10-K', '4/A', '5', 'SC 13G/A',\n",
       "       'SC 13G', 'S-8 POS'], dtype=object)"
      ]
     },
     "execution_count": 20,
=======
       "array(['10-Q', '3', '4', '8-K', 'CORRESP', 'SC 13D/A', 'SC 13D', 'SC 13G',\n",
       "       'UPLOAD', '10-K', 'SC 13G/A', 'DEF 14A'], dtype=object)"
      ]
     },
     "execution_count": 9,
>>>>>>> 46fb8b1d3fd5c7b51c91827edb94e1e606b9ed6e
     "metadata": {},
     "output_type": "execute_result"
    }
   ],
   "source": [
    "idxDF['fileType'].unique()"
   ]
  },
  {
   "cell_type": "code",
   "execution_count": 8,
   "metadata": {},
   "outputs": [
    {
     "data": {
      "text/html": [
       "<div>\n",
       "<style scoped>\n",
       "    .dataframe tbody tr th:only-of-type {\n",
       "        vertical-align: middle;\n",
       "    }\n",
       "\n",
       "    .dataframe tbody tr th {\n",
       "        vertical-align: top;\n",
       "    }\n",
       "\n",
       "    .dataframe thead th {\n",
       "        text-align: right;\n",
       "    }\n",
       "</style>\n",
       "<table border=\"1\" class=\"dataframe\">\n",
       "  <thead>\n",
       "    <tr style=\"text-align: right;\">\n",
       "      <th></th>\n",
       "      <th>Code</th>\n",
       "      <th>Name</th>\n",
       "      <th>fileType</th>\n",
       "      <th>reportDate</th>\n",
       "      <th>raw_path</th>\n",
       "      <th>url</th>\n",
       "    </tr>\n",
       "  </thead>\n",
       "  <tbody>\n",
       "    <tr>\n",
       "      <th>24</th>\n",
       "      <td>1000045</td>\n",
       "      <td>NICHOLAS FINANCIAL INC</td>\n",
       "      <td>UPLOAD</td>\n",
       "      <td>2017-02-07</td>\n",
       "      <td>edgar/data/1000045/0000000000-17-004330.txt</td>\n",
       "      <td>edgar/data/1000045/0000000000-17-004330-index....</td>\n",
       "    </tr>\n",
       "    <tr>\n",
       "      <th>37</th>\n",
       "      <td>1000045</td>\n",
       "      <td>NICHOLAS FINANCIAL INC</td>\n",
       "      <td>UPLOAD</td>\n",
       "      <td>2017-05-23</td>\n",
       "      <td>edgar/data/1000045/0000000000-17-018036.txt</td>\n",
       "      <td>edgar/data/1000045/0000000000-17-018036-index....</td>\n",
       "    </tr>\n",
       "  </tbody>\n",
       "</table>\n",
       "</div>"
      ],
      "text/plain": [
       "       Code                    Name fileType  reportDate  \\\n",
       "24  1000045  NICHOLAS FINANCIAL INC   UPLOAD  2017-02-07   \n",
       "37  1000045  NICHOLAS FINANCIAL INC   UPLOAD  2017-05-23   \n",
       "\n",
       "                                       raw_path  \\\n",
       "24  edgar/data/1000045/0000000000-17-004330.txt   \n",
       "37  edgar/data/1000045/0000000000-17-018036.txt   \n",
       "\n",
       "                                                  url  \n",
       "24  edgar/data/1000045/0000000000-17-004330-index....  \n",
       "37  edgar/data/1000045/0000000000-17-018036-index....  "
      ]
     },
     "execution_count": 8,
     "metadata": {},
     "output_type": "execute_result"
    }
   ],
   "source": [
    "idxDF.loc[idxDF['fileType']=='UPLOAD']"
   ]
  },
  {
   "cell_type": "markdown",
   "metadata": {},
   "source": [
    "#### 8-K"
   ]
  },
  {
   "cell_type": "code",
   "execution_count": 12,
   "metadata": {},
   "outputs": [
    {
     "name": "stdout",
     "output_type": "stream",
     "text": [
      "   index     Code           Name fileType  reportDate  \\\n",
      "0      1  1652044  Alphabet Inc.      8-K  2017-04-27   \n",
      "1      4  1652044  Alphabet Inc.      8-K  2017-10-26   \n",
      "2     10  1652044  Alphabet Inc.      8-K  2017-07-24   \n",
      "3     14  1652044  Alphabet Inc.      8-K  2018-04-23   \n",
      "4     17  1652044  Alphabet Inc.      8-K  2018-07-23   \n",
      "5     19  1652044  Alphabet Inc.      8-K  2018-02-01   \n",
      "6     21  1652044  Alphabet Inc.      8-K  2017-01-26   \n",
      "\n",
      "                                      raw_path  \\\n",
      "0  edgar/data/1652044/0001652044-17-000011.txt   \n",
      "1  edgar/data/1652044/0001652044-17-000039.txt   \n",
      "2  edgar/data/1652044/0001652044-17-000024.txt   \n",
      "3  edgar/data/1652044/0001652044-18-000011.txt   \n",
      "4  edgar/data/1652044/0001652044-18-000025.txt   \n",
      "5  edgar/data/1652044/0001652044-18-000004.txt   \n",
      "6  edgar/data/1652044/0001652044-17-000005.txt   \n",
      "\n",
      "                                                 url  \n",
      "0  edgar/data/1652044/0001652044-17-000011-index....  \n",
      "1  edgar/data/1652044/0001652044-17-000039-index....  \n",
      "2  edgar/data/1652044/0001652044-17-000024-index....  \n",
      "3  edgar/data/1652044/0001652044-18-000011-index....  \n",
      "4  edgar/data/1652044/0001652044-18-000025-index....  \n",
      "5  edgar/data/1652044/0001652044-18-000004-index....  \n",
      "6  edgar/data/1652044/0001652044-17-000005-index....  \n"
     ]
    }
   ],
   "source": [
    "filing_8k_lst = idxDF.loc[idxDF['fileType']=='8-K'].reset_index()\n",
    "print(filing_8k_lst)"
   ]
  },
  {
   "cell_type": "code",
   "execution_count": 13,
   "metadata": {},
   "outputs": [
    {
     "name": "stdout",
     "output_type": "stream",
     "text": [
      "curl https://www.sec.gov/Archives/edgar/data/1652044/0001652044-17-000011.txt --output data/8-K/0001652044/0001652044_20170427.html\n",
      "curl https://www.sec.gov/Archives/edgar/data/1652044/0001652044-17-000039.txt --output data/8-K/0001652044/0001652044_20171026.html\n",
      "curl https://www.sec.gov/Archives/edgar/data/1652044/0001652044-17-000024.txt --output data/8-K/0001652044/0001652044_20170724.html\n",
      "curl https://www.sec.gov/Archives/edgar/data/1652044/0001652044-18-000011.txt --output data/8-K/0001652044/0001652044_20180423.html\n",
      "curl https://www.sec.gov/Archives/edgar/data/1652044/0001652044-18-000025.txt --output data/8-K/0001652044/0001652044_20180723.html\n",
      "curl https://www.sec.gov/Archives/edgar/data/1652044/0001652044-18-000004.txt --output data/8-K/0001652044/0001652044_20180201.html\n",
      "curl https://www.sec.gov/Archives/edgar/data/1652044/0001652044-17-000005.txt --output data/8-K/0001652044/0001652044_20170126.html\n"
     ]
    }
   ],
   "source": [
    "tmp_lst = filing_8k_lst.T.to_dict()\n",
    "for i in tmp_lst:\n",
    "    init_ = 'https://www.sec.gov/Archives'\n",
    "    url_path = '/'.join([init_, tmp_lst[i]['raw_path']])\n",
    "    date_ = tmp_lst[i]['reportDate'].replace('-', '')\n",
    "    data_root = 'data/' + str(tmp_lst[i]['fileType'])\n",
    "    data_folder = '/'.join([data_root, code])\n",
    "    os.makedirs(data_folder, exist_ok=True)\n",
    "    cmd = f'curl {url_path} --output {data_folder}/{code}_{date_}.html'\n",
    "    print(cmd)\n",
    "\n",
    "    process = subprocess.Popen(cmd.split(), stdout=subprocess.PIPE)\n",
    "    output, error = process.communicate()"
   ]
  },
  {
   "cell_type": "markdown",
   "metadata": {},
   "source": [
    "#### 10-Q"
   ]
  },
  {
   "cell_type": "code",
   "execution_count": 10,
   "metadata": {},
   "outputs": [
    {
     "name": "stdout",
     "output_type": "stream",
     "text": [
      "   index     Code                    Name fileType  reportDate  \\\n",
      "0      0  1000045  NICHOLAS FINANCIAL INC     10-Q  2017-02-09   \n",
      "1     41  1000045  NICHOLAS FINANCIAL INC     10-Q  2017-11-09   \n",
      "2     53  1000045  NICHOLAS FINANCIAL INC     10-Q  2018-02-09   \n",
      "3     75  1000045  NICHOLAS FINANCIAL INC     10-Q  2018-08-14   \n",
      "\n",
      "                                      raw_path  \\\n",
      "0  edgar/data/1000045/0001193125-17-035551.txt   \n",
      "1  edgar/data/1000045/0001193125-17-338757.txt   \n",
      "2  edgar/data/1000045/0001193125-18-037381.txt   \n",
      "3  edgar/data/1000045/0001193125-18-248315.txt   \n",
      "\n",
      "                                                 url  \n",
      "0  edgar/data/1000045/0001193125-17-035551-index....  \n",
      "1  edgar/data/1000045/0001193125-17-338757-index....  \n",
      "2  edgar/data/1000045/0001193125-18-037381-index....  \n",
      "3  edgar/data/1000045/0001193125-18-248315-index....  \n"
     ]
    }
   ],
   "source": [
    "filing_10q_lst = idxDF.loc[idxDF['fileType']=='10-Q'].reset_index()\n",
    "print(filing_10q_lst)"
   ]
  },
  {
   "cell_type": "code",
   "execution_count": 11,
   "metadata": {},
   "outputs": [
    {
     "name": "stdout",
     "output_type": "stream",
     "text": [
      "curl https://www.sec.gov/Archives/edgar/data/1000045/0001193125-17-035551.txt --output data/10-Q/1000045/1000045_20170209.html\n",
      "curl https://www.sec.gov/Archives/edgar/data/1000045/0001193125-17-338757.txt --output data/10-Q/1000045/1000045_20171109.html\n",
      "curl https://www.sec.gov/Archives/edgar/data/1000045/0001193125-18-037381.txt --output data/10-Q/1000045/1000045_20180209.html\n",
      "curl https://www.sec.gov/Archives/edgar/data/1000045/0001193125-18-248315.txt --output data/10-Q/1000045/1000045_20180814.html\n"
     ]
    }
   ],
   "source": [
    "tmp_lst = filing_10q_lst.T.to_dict()\n",
    "for i in tmp_lst:\n",
    "    init_ = 'https://www.sec.gov/Archives'\n",
    "    url_path = '/'.join([init_, tmp_lst[i]['raw_path']])\n",
    "    date_ = tmp_lst[i]['reportDate'].replace('-', '')\n",
    "    data_root = 'data/' + str(tmp_lst[i]['fileType'])\n",
    "    data_folder = '/'.join([data_root, code])\n",
    "    os.makedirs(data_folder, exist_ok=True)\n",
    "    cmd = f'curl {url_path} --output {data_folder}/{code}_{date_}.html'\n",
    "    print(cmd)\n",
    "\n",
    "    process = subprocess.Popen(cmd.split(), stdout=subprocess.PIPE)\n",
    "    output, error = process.communicate()"
   ]
  },
  {
   "cell_type": "markdown",
   "metadata": {},
   "source": [
    "#### 10-K"
   ]
  },
  {
   "cell_type": "code",
   "execution_count": 12,
   "metadata": {},
   "outputs": [
    {
     "name": "stdout",
     "output_type": "stream",
     "text": [
      "   index     Code                    Name fileType  reportDate  \\\n",
      "0     25  1000045  NICHOLAS FINANCIAL INC     10-K  2017-06-14   \n",
      "1     67  1000045  NICHOLAS FINANCIAL INC     10-K  2018-06-27   \n",
      "\n",
      "                                      raw_path  \\\n",
      "0  edgar/data/1000045/0001193125-17-203193.txt   \n",
      "1  edgar/data/1000045/0001193125-18-205637.txt   \n",
      "\n",
      "                                                 url  \n",
      "0  edgar/data/1000045/0001193125-17-203193-index....  \n",
      "1  edgar/data/1000045/0001193125-18-205637-index....  \n"
     ]
    }
   ],
   "source": [
    "filing_10k_lst = idxDF.loc[idxDF['fileType']=='10-K'].reset_index()\n",
    "print(filing_10k_lst)"
   ]
  },
  {
   "cell_type": "code",
   "execution_count": 13,
   "metadata": {},
   "outputs": [
    {
     "name": "stdout",
     "output_type": "stream",
     "text": [
      "curl https://www.sec.gov/Archives/edgar/data/1000045/0001193125-17-203193.txt --output data/10-K/1000045/1000045_20170614.html\n",
      "curl https://www.sec.gov/Archives/edgar/data/1000045/0001193125-18-205637.txt --output data/10-K/1000045/1000045_20180627.html\n"
     ]
    }
   ],
   "source": [
    "tmp_lst = filing_10k_lst.T.to_dict()\n",
    "for i in tmp_lst:\n",
    "    init_ = 'https://www.sec.gov/Archives'\n",
    "    url_path = '/'.join([init_, tmp_lst[i]['raw_path']])\n",
    "    date_ = tmp_lst[i]['reportDate'].replace('-', '')\n",
    "    data_root = 'data/' + str(tmp_lst[i]['fileType'])\n",
    "    data_folder = '/'.join([data_root, code])\n",
    "    os.makedirs(data_folder, exist_ok=True)\n",
    "    cmd = f'curl {url_path} --output {data_folder}/{code}_{date_}.html'\n",
    "    print(cmd)\n",
    "\n",
    "    process = subprocess.Popen(cmd.split(), stdout=subprocess.PIPE)\n",
    "    output, error = process.communicate()"
   ]
  }
 ],
 "metadata": {
  "kernelspec": {
   "display_name": "Python 3",
   "language": "python",
   "name": "python3"
  },
  "language_info": {
   "codemirror_mode": {
    "name": "ipython",
    "version": 3
   },
   "file_extension": ".py",
   "mimetype": "text/x-python",
   "name": "python",
   "nbconvert_exporter": "python",
   "pygments_lexer": "ipython3",
   "version": "3.6.5"
  }
 },
 "nbformat": 4,
 "nbformat_minor": 2
}

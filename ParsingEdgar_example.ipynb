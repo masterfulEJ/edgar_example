{
 "cells": [
  {
   "cell_type": "code",
   "execution_count": 8,
   "metadata": {},
   "outputs": [],
   "source": [
    "import os\n",
    "import edgar\n",
    "import subprocess\n",
    "import pandas as pd"
   ]
  },
  {
   "cell_type": "code",
   "execution_count": 2,
   "metadata": {
    "scrolled": true
   },
   "outputs": [
    {
     "name": "stdout",
     "output_type": "stream",
     "text": [
      "2018-08-15 00:22:15,681\n",
      "DEBUG\n",
      "downloads will be saved to unload\r\n",
      "2018-08-15 00:22:15,681\n",
      "DEBUG\n",
      "downloading files since 2017\r\n",
      "2018-08-15 00:22:15,681\n",
      "INFO\n",
      "7 index files to retrieve\r\n",
      "2018-08-15 00:22:15,681\n",
      "DEBUG\n",
      "worker count: 8\r\n",
      "2018-08-15 00:22:17,228\n",
      "INFO\n",
      "> downloaded https://www.sec.gov/Archives/edgar/full-index/2017/QTR4/master.zip to unload/2017-QTR4.tsv\r\n",
      "2018-08-15 00:22:17,514\n",
      "INFO\n",
      "> downloaded https://www.sec.gov/Archives/edgar/full-index/2018/QTR3/master.zip to unload/2018-QTR3.tsv\r\n",
      "2018-08-15 00:22:17,638\n",
      "INFO\n",
      "> downloaded https://www.sec.gov/Archives/edgar/full-index/2017/QTR2/master.zip to unload/2017-QTR2.tsv\r\n",
      "2018-08-15 00:22:17,821\n",
      "INFO\n",
      "> downloaded https://www.sec.gov/Archives/edgar/full-index/2018/QTR2/master.zip to unload/2018-QTR2.tsv\r\n",
      "2018-08-15 00:22:18,001\n",
      "INFO\n",
      "> downloaded https://www.sec.gov/Archives/edgar/full-index/2018/QTR1/master.zip to unload/2018-QTR1.tsv\r\n",
      "2018-08-15 00:22:18,038\n",
      "INFO\n",
      "> downloaded https://www.sec.gov/Archives/edgar/full-index/2017/QTR1/master.zip to unload/2017-QTR1.tsv\r\n",
      "2018-08-15 00:22:18,123\n",
      "INFO\n",
      "complete\r\n",
      "2018-08-15 00:22:18,123\n",
      "INFO\n",
      "Files downloaded in unload\r\n",
      "\n"
     ]
    }
   ],
   "source": [
    "# unload files into 'unload' folder\n",
    "folder = 'unload'\n",
    "startYear = '2017'\n",
    "cmd = f'python run.py -y {startYear} -d {folder}'\n",
    "\n",
    "process = subprocess.Popen(cmd.split(), stdout=subprocess.PIPE)\n",
    "output, error = process.communicate()\n",
    "print('\\n'.join(output.decode(\"utf-8\").split(' - ')))"
   ]
  },
  {
   "cell_type": "code",
   "execution_count": 3,
   "metadata": {},
   "outputs": [
    {
     "name": "stdout",
     "output_type": "stream",
     "text": [
      "2017-QTR1.tsv\n",
      "2017-QTR2.tsv\n",
      "2017-QTR3.tsv\n",
      "2017-QTR4.tsv\n",
      "2018-QTR1.tsv\n",
      "2018-QTR2.tsv\n",
      "2018-QTR3.tsv\n"
     ]
    }
   ],
   "source": [
    "# merge unloaded files into master index in 'mstrIdx' folder\n",
    "mstr_folder = 'mstrIdx'\n",
    "os.makedirs(mstr_folder, exist_ok=True)\n",
    "# cmd = f'cat {folder}/*.tsv > {mstr_folder}/master.tsv'\n",
    "\n",
    "file_lst = [x for x in os.listdir(folder) if x[-4:]=='.tsv']\n",
    "with open(f'{mstr_folder}/master.tsv', 'w') as f:\n",
    "    for fname in file_lst:\n",
    "        with open(f'{folder}/{fname}') as infile:\n",
    "            for line in infile:\n",
    "                f.write(line)\n",
    "        print(fname)"
   ]
  },
  {
   "cell_type": "code",
   "execution_count": 4,
   "metadata": {},
   "outputs": [
    {
     "name": "stdout",
     "output_type": "stream",
     "text": [
      "grep -h 1000045 unload/*.tsv\n"
     ]
    }
   ],
   "source": [
    "# Select security and find its index\n",
    "code = '1000045'\n",
    "idx_dir = 'idx'\n",
    "os.makedirs(idx_dir, exist_ok=True)\n",
    "cmd = f'grep -h {code} {folder}/*.tsv'\n",
    "print(cmd)\n",
    "\n",
    "process = subprocess.Popen(cmd.split(), stdout=subprocess.PIPE)\n",
    "output, error = process.communicate()\n",
    "\n",
    "with open(f'{idx_dir}/{code}.txt', 'wb') as f:\n",
    "    f.write(output)"
   ]
  },
  {
   "cell_type": "code",
   "execution_count": 9,
   "metadata": {},
   "outputs": [
    {
     "name": "stdout",
     "output_type": "stream",
     "text": [
      "      Code                    Name fileType  reportDate  \\\n",
      "0  1000045  NICHOLAS FINANCIAL INC     10-Q  2017-02-09   \n",
      "1  1000045  NICHOLAS FINANCIAL INC        3  2017-01-05   \n",
      "2  1000045  NICHOLAS FINANCIAL INC        4  2017-01-05   \n",
      "3  1000045  NICHOLAS FINANCIAL INC        4  2017-01-09   \n",
      "4  1000045  NICHOLAS FINANCIAL INC        4  2017-01-12   \n",
      "\n",
      "                                      raw_path  \\\n",
      "0  edgar/data/1000045/0001193125-17-035551.txt   \n",
      "1  edgar/data/1000045/0001398344-17-000151.txt   \n",
      "2  edgar/data/1000045/0001398344-17-000154.txt   \n",
      "3  edgar/data/1000045/0001398344-17-000309.txt   \n",
      "4  edgar/data/1000045/0001398344-17-000516.txt   \n",
      "\n",
      "                                                 url  \n",
      "0  edgar/data/1000045/0001193125-17-035551-index....  \n",
      "1  edgar/data/1000045/0001398344-17-000151-index....  \n",
      "2  edgar/data/1000045/0001398344-17-000154-index....  \n",
      "3  edgar/data/1000045/0001398344-17-000309-index....  \n",
      "4  edgar/data/1000045/0001398344-17-000516-index....  \n"
     ]
    }
   ],
   "source": [
    "idxDF = pd.read_csv(f'{idx_dir}/{code}.txt', sep='|', header=None)\n",
    "idxDF.columns = ['Code', 'Name', 'fileType', 'reportDate', 'raw_path', 'url']\n",
    "print(idxDF.head())"
   ]
  },
  {
   "cell_type": "code",
   "execution_count": 10,
   "metadata": {},
   "outputs": [
    {
     "data": {
      "text/plain": [
       "array(['10-Q', '3', '4', '8-K', 'CORRESP', 'SC 13D/A', 'SC 13D', 'SC 13G',\n",
       "       'UPLOAD', '10-K', 'SC 13G/A', 'DEF 14A'], dtype=object)"
      ]
     },
     "execution_count": 10,
     "metadata": {},
     "output_type": "execute_result"
    }
   ],
   "source": [
    "idxDF['fileType'].unique()"
   ]
  },
  {
   "cell_type": "code",
   "execution_count": 18,
   "metadata": {},
   "outputs": [
    {
     "name": "stdout",
     "output_type": "stream",
     "text": [
      "   index     Code                    Name fileType  reportDate  \\\n",
      "0      0  1000045  NICHOLAS FINANCIAL INC     10-Q  2017-02-09   \n",
      "1     41  1000045  NICHOLAS FINANCIAL INC     10-Q  2017-11-09   \n",
      "2     53  1000045  NICHOLAS FINANCIAL INC     10-Q  2018-02-09   \n",
      "\n",
      "                                      raw_path  \\\n",
      "0  edgar/data/1000045/0001193125-17-035551.txt   \n",
      "1  edgar/data/1000045/0001193125-17-338757.txt   \n",
      "2  edgar/data/1000045/0001193125-18-037381.txt   \n",
      "\n",
      "                                                 url  \n",
      "0  edgar/data/1000045/0001193125-17-035551-index....  \n",
      "1  edgar/data/1000045/0001193125-17-338757-index....  \n",
      "2  edgar/data/1000045/0001193125-18-037381-index....  \n"
     ]
    }
   ],
   "source": [
    "filing_10q_lst = idxDF.loc[idxDF['fileType']=='10-Q'].reset_index()\n",
    "print(filing_10q_lst)"
   ]
  },
  {
   "cell_type": "code",
   "execution_count": 19,
   "metadata": {},
   "outputs": [
    {
     "name": "stdout",
     "output_type": "stream",
     "text": [
      "curl https://www.sec.gov/Archives/edgar/data/1000045/0001193125-17-035551.txt --output 10-Q/1000045/1000045_20170209.html\n",
      "curl https://www.sec.gov/Archives/edgar/data/1000045/0001193125-17-338757.txt --output 10-Q/1000045/1000045_20171109.html\n",
      "curl https://www.sec.gov/Archives/edgar/data/1000045/0001193125-18-037381.txt --output 10-Q/1000045/1000045_20180209.html\n"
     ]
    }
   ],
   "source": [
    "tmp_lst = filing_10q_lst.T.to_dict()\n",
    "for i in tmp_lst:\n",
    "    init_ = 'https://www.sec.gov/Archives'\n",
    "    url_path = '/'.join([init_, tmp_lst[i]['raw_path']])\n",
    "    date_ = tmp_lst[i]['reportDate'].replace('-', '')\n",
    "    data_root = str(tmp_lst[i]['fileType'])\n",
    "    data_folder = '/'.join([data_root, code])\n",
    "    os.makedirs(data_folder, exist_ok=True)\n",
    "    cmd = f'curl {url_path} --output {data_folder}/{code}_{date_}.html'\n",
    "    print(cmd)\n",
    "\n",
    "    process = subprocess.Popen(cmd.split(), stdout=subprocess.PIPE)\n",
    "    output, error = process.communicate()"
   ]
  }
 ],
 "metadata": {
  "kernelspec": {
   "display_name": "Python 3",
   "language": "python",
   "name": "python3"
  },
  "language_info": {
   "codemirror_mode": {
    "name": "ipython",
    "version": 3
   },
   "file_extension": ".py",
   "mimetype": "text/x-python",
   "name": "python",
   "nbconvert_exporter": "python",
   "pygments_lexer": "ipython3",
   "version": "3.6.5"
  }
 },
 "nbformat": 4,
 "nbformat_minor": 2
}

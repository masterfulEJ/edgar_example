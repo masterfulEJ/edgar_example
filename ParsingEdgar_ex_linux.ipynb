{
 "cells": [
  {
   "cell_type": "code",
   "execution_count": 1,
   "metadata": {},
   "outputs": [],
   "source": [
    "import os\n",
    "import edgar\n",
    "import subprocess\n",
    "import pandas as pd"
   ]
  },
  {
   "cell_type": "code",
   "execution_count": 2,
   "metadata": {
    "scrolled": true
   },
   "outputs": [
    {
     "name": "stdout",
     "output_type": "stream",
     "text": [
      "2018-08-16 17:29:05,942\n",
      "DEBUG\n",
      "downloads will be saved to unload\n",
      "2018-08-16 17:29:05,942\n",
      "DEBUG\n",
      "downloading files since 2017\n",
      "2018-08-16 17:29:05,942\n",
      "INFO\n",
      "7 index files to retrieve\n",
      "2018-08-16 17:29:05,942\n",
      "DEBUG\n",
      "worker count: 4\n",
      "2018-08-16 17:29:09,888\n",
      "INFO\n",
      "> downloaded https://www.sec.gov/Archives/edgar/full-index/2018/QTR3/master.zip to unload/2018-QTR3.tsv\n",
      "2018-08-16 17:29:13,706\n",
      "INFO\n",
      "> downloaded https://www.sec.gov/Archives/edgar/full-index/2018/QTR1/master.zip to unload/2018-QTR1.tsv\n",
      "2018-08-16 17:29:14,232\n",
      "INFO\n",
      "> downloaded https://www.sec.gov/Archives/edgar/full-index/2018/QTR2/master.zip to unload/2018-QTR2.tsv\n",
      "2018-08-16 17:29:17,443\n",
      "INFO\n",
      "> downloaded https://www.sec.gov/Archives/edgar/full-index/2017/QTR3/master.zip to unload/2017-QTR3.tsv\n",
      "2018-08-16 17:29:17,535\n",
      "INFO\n",
      "> downloaded https://www.sec.gov/Archives/edgar/full-index/2017/QTR4/master.zip to unload/2017-QTR4.tsv\n",
      "2018-08-16 17:29:21,080\n",
      "INFO\n",
      "> downloaded https://www.sec.gov/Archives/edgar/full-index/2017/QTR2/master.zip to unload/2017-QTR2.tsv\n",
      "2018-08-16 17:29:21,378\n",
      "INFO\n",
      "> downloaded https://www.sec.gov/Archives/edgar/full-index/2017/QTR1/master.zip to unload/2017-QTR1.tsv\n",
      "2018-08-16 17:29:21,389\n",
      "INFO\n",
      "complete\n",
      "2018-08-16 17:29:21,389\n",
      "INFO\n",
      "Files downloaded in unload\n",
      "\n"
     ]
    }
   ],
   "source": [
    "# unload files into 'unload' folder\n",
    "folder = 'unload'\n",
    "startYear = '2017'\n",
    "cmd = f'python run.py -y {startYear} -d {folder}'\n",
    "\n",
    "process = subprocess.Popen(cmd.split(), stdout=subprocess.PIPE)\n",
    "output, error = process.communicate()\n",
    "print('\\n'.join(output.decode(\"utf-8\").split(' - ')))"
   ]
  },
  {
   "cell_type": "code",
   "execution_count": 3,
   "metadata": {},
   "outputs": [
    {
     "name": "stdout",
     "output_type": "stream",
     "text": [
      "2017-QTR2.tsv\n",
      "2017-QTR4.tsv\n",
      "2017-QTR3.tsv\n",
      "2018-QTR2.tsv\n",
      "2018-QTR3.tsv\n",
      "2018-QTR1.tsv\n",
      "2017-QTR1.tsv\n"
     ]
    }
   ],
   "source": [
    "# merge unloaded files into master index in 'mstrIdx' folder\n",
    "mstr_folder = 'mstrIdx'\n",
    "os.makedirs(mstr_folder, exist_ok=True)\n",
    "# cmd = f'cat {folder}/*.tsv > {mstr_folder}/master.tsv'\n",
    "\n",
    "file_lst = [x for x in os.listdir(folder) if x[-4:]=='.tsv']\n",
    "with open(f'{mstr_folder}/master.tsv', 'w') as f:\n",
    "    for fname in file_lst:\n",
    "        with open(f'{folder}/{fname}') as infile:\n",
    "            for line in infile:\n",
    "                f.write(line)\n",
    "        print(fname)"
   ]
  },
  {
   "cell_type": "code",
   "execution_count": 4,
   "metadata": {},
   "outputs": [
    {
     "name": "stdout",
     "output_type": "stream",
     "text": [
      "goog | found: #8 | 0001652044\n",
      "aapl | found: #7 | 0000320193\n"
     ]
    },
    {
     "data": {
      "text/plain": [
       "{'goog': '0001652044', 'aapl': '0000320193'}"
      ]
     },
     "execution_count": 4,
     "metadata": {},
     "output_type": "execute_result"
    }
   ],
   "source": [
    "from func_tickSearch import cikftick\n",
    "cikftick()"
   ]
  },
  {
   "cell_type": "code",
   "execution_count": 18,
   "metadata": {},
   "outputs": [],
   "source": [
    "# Select security and find its index\n",
    "code = '0001652044'\n",
    "idx_dir = 'idx'\n",
    "os.makedirs(idx_dir, exist_ok=True)\n",
    "\n",
    "idx_list = []\n",
    "for file in [x for x in os.listdir(folder) if x[-4:]=='.tsv']:\n",
    "    with open(f'{folder}/{file}') as f:\n",
    "        for line in f:\n",
    "            if code.lstrip('0') in line:\n",
    "                idx_list.append(line)\n",
    "idx_list = [x.split('|') for x in idx_list]"
   ]
  },
  {
   "cell_type": "code",
   "execution_count": 19,
   "metadata": {},
   "outputs": [
    {
     "name": "stdout",
     "output_type": "stream",
     "text": [
      "      Code           Name fileType  reportDate  \\\n",
      "0  1652044  Alphabet Inc.     10-Q  2017-05-02   \n",
      "1  1652044  Alphabet Inc.        4  2017-04-04   \n",
      "2  1652044  Alphabet Inc.        4  2017-04-05   \n",
      "3  1652044  Alphabet Inc.        4  2017-04-12   \n",
      "4  1652044  Alphabet Inc.        4  2017-04-19   \n",
      "\n",
      "                                      raw_path  \\\n",
      "0  edgar/data/1652044/0001652044-17-000014.txt   \n",
      "1  edgar/data/1652044/0001209191-17-024496.txt   \n",
      "2  edgar/data/1652044/0001209191-17-025851.txt   \n",
      "3  edgar/data/1652044/0001209191-17-026715.txt   \n",
      "4  edgar/data/1652044/0001209191-17-027590.txt   \n",
      "\n",
      "                                                 url  \n",
      "0  edgar/data/1652044/0001652044-17-000014-index....  \n",
      "1  edgar/data/1652044/0001209191-17-024496-index....  \n",
      "2  edgar/data/1652044/0001209191-17-025851-index....  \n",
      "3  edgar/data/1652044/0001209191-17-026715-index....  \n",
      "4  edgar/data/1652044/0001209191-17-027590-index....  \n"
     ]
    }
   ],
   "source": [
    "idxDF = pd.DataFrame(idx_list, columns=['Code', 'Name', 'fileType', 'reportDate', 'raw_path', 'url'])\n",
    "print(idxDF.head())"
   ]
  },
  {
   "cell_type": "code",
   "execution_count": 20,
   "metadata": {},
   "outputs": [
    {
     "data": {
      "text/plain": [
       "array(['10-Q', '4', '8-K', 'DEF 14A', 'DEFA14A', 'PX14A6G', 'SD', '3',\n",
       "       'CORRESP', 'UPLOAD', 'S-8', '10-K', '4/A', '5', 'SC 13G/A',\n",
       "       'SC 13G', 'S-8 POS'], dtype=object)"
      ]
     },
     "execution_count": 20,
     "metadata": {},
     "output_type": "execute_result"
    }
   ],
   "source": [
    "idxDF['fileType'].unique()"
   ]
  },
  {
   "cell_type": "markdown",
   "metadata": {},
   "source": [
    "#### 8-K"
   ]
  },
  {
   "cell_type": "code",
   "execution_count": 12,
   "metadata": {},
   "outputs": [
    {
     "name": "stdout",
     "output_type": "stream",
     "text": [
      "   index     Code           Name fileType  reportDate  \\\n",
      "0      1  1652044  Alphabet Inc.      8-K  2017-04-27   \n",
      "1      4  1652044  Alphabet Inc.      8-K  2017-10-26   \n",
      "2     10  1652044  Alphabet Inc.      8-K  2017-07-24   \n",
      "3     14  1652044  Alphabet Inc.      8-K  2018-04-23   \n",
      "4     17  1652044  Alphabet Inc.      8-K  2018-07-23   \n",
      "5     19  1652044  Alphabet Inc.      8-K  2018-02-01   \n",
      "6     21  1652044  Alphabet Inc.      8-K  2017-01-26   \n",
      "\n",
      "                                      raw_path  \\\n",
      "0  edgar/data/1652044/0001652044-17-000011.txt   \n",
      "1  edgar/data/1652044/0001652044-17-000039.txt   \n",
      "2  edgar/data/1652044/0001652044-17-000024.txt   \n",
      "3  edgar/data/1652044/0001652044-18-000011.txt   \n",
      "4  edgar/data/1652044/0001652044-18-000025.txt   \n",
      "5  edgar/data/1652044/0001652044-18-000004.txt   \n",
      "6  edgar/data/1652044/0001652044-17-000005.txt   \n",
      "\n",
      "                                                 url  \n",
      "0  edgar/data/1652044/0001652044-17-000011-index....  \n",
      "1  edgar/data/1652044/0001652044-17-000039-index....  \n",
      "2  edgar/data/1652044/0001652044-17-000024-index....  \n",
      "3  edgar/data/1652044/0001652044-18-000011-index....  \n",
      "4  edgar/data/1652044/0001652044-18-000025-index....  \n",
      "5  edgar/data/1652044/0001652044-18-000004-index....  \n",
      "6  edgar/data/1652044/0001652044-17-000005-index....  \n"
     ]
    }
   ],
   "source": [
    "filing_8k_lst = idxDF.loc[idxDF['fileType']=='8-K'].reset_index()\n",
    "print(filing_8k_lst)"
   ]
  },
  {
   "cell_type": "code",
   "execution_count": 13,
   "metadata": {},
   "outputs": [
    {
     "name": "stdout",
     "output_type": "stream",
     "text": [
      "curl https://www.sec.gov/Archives/edgar/data/1652044/0001652044-17-000011.txt --output data/8-K/0001652044/0001652044_20170427.html\n",
      "curl https://www.sec.gov/Archives/edgar/data/1652044/0001652044-17-000039.txt --output data/8-K/0001652044/0001652044_20171026.html\n",
      "curl https://www.sec.gov/Archives/edgar/data/1652044/0001652044-17-000024.txt --output data/8-K/0001652044/0001652044_20170724.html\n",
      "curl https://www.sec.gov/Archives/edgar/data/1652044/0001652044-18-000011.txt --output data/8-K/0001652044/0001652044_20180423.html\n",
      "curl https://www.sec.gov/Archives/edgar/data/1652044/0001652044-18-000025.txt --output data/8-K/0001652044/0001652044_20180723.html\n",
      "curl https://www.sec.gov/Archives/edgar/data/1652044/0001652044-18-000004.txt --output data/8-K/0001652044/0001652044_20180201.html\n",
      "curl https://www.sec.gov/Archives/edgar/data/1652044/0001652044-17-000005.txt --output data/8-K/0001652044/0001652044_20170126.html\n"
     ]
    }
   ],
   "source": [
    "tmp_lst = filing_8k_lst.T.to_dict()\n",
    "for i in tmp_lst:\n",
    "    init_ = 'https://www.sec.gov/Archives'\n",
    "    url_path = '/'.join([init_, tmp_lst[i]['raw_path']])\n",
    "    date_ = tmp_lst[i]['reportDate'].replace('-', '')\n",
    "    data_root = 'data/' + str(tmp_lst[i]['fileType'])\n",
    "    data_folder = '/'.join([data_root, code])\n",
    "    os.makedirs(data_folder, exist_ok=True)\n",
    "    cmd = f'curl {url_path} --output {data_folder}/{code}_{date_}.html'\n",
    "    print(cmd)\n",
    "\n",
    "    process = subprocess.Popen(cmd.split(), stdout=subprocess.PIPE)\n",
    "    output, error = process.communicate()"
   ]
  },
  {
   "cell_type": "markdown",
   "metadata": {},
   "source": [
    "#### 10-Q"
   ]
  },
  {
   "cell_type": "code",
   "execution_count": 7,
   "metadata": {},
   "outputs": [
    {
     "name": "stdout",
     "output_type": "stream",
     "text": [
      "   index     Code                    Name fileType  reportDate  \\\n",
      "0     16  1000045  NICHOLAS FINANCIAL INC     10-Q  2017-11-09   \n",
      "1     28  1000045  NICHOLAS FINANCIAL INC     10-Q  2017-08-09   \n",
      "2     62  1000045  NICHOLAS FINANCIAL INC     10-Q  2018-08-14   \n",
      "3     73  1000045  NICHOLAS FINANCIAL INC     10-Q  2018-02-09   \n",
      "4     87  1000045  NICHOLAS FINANCIAL INC     10-Q  2017-02-09   \n",
      "\n",
      "                                      raw_path  \\\n",
      "0  edgar/data/1000045/0001193125-17-338757.txt   \n",
      "1  edgar/data/1000045/0001193125-17-252199.txt   \n",
      "2  edgar/data/1000045/0001193125-18-248315.txt   \n",
      "3  edgar/data/1000045/0001193125-18-037381.txt   \n",
      "4  edgar/data/1000045/0001193125-17-035551.txt   \n",
      "\n",
      "                                                 url  \n",
      "0  edgar/data/1000045/0001193125-17-338757-index....  \n",
      "1  edgar/data/1000045/0001193125-17-252199-index....  \n",
      "2  edgar/data/1000045/0001193125-18-248315-index....  \n",
      "3  edgar/data/1000045/0001193125-18-037381-index....  \n",
      "4  edgar/data/1000045/0001193125-17-035551-index....  \n"
     ]
    }
   ],
   "source": [
    "filing_10q_lst = idxDF.loc[idxDF['fileType']=='10-Q'].reset_index()\n",
    "print(filing_10q_lst)"
   ]
  },
  {
   "cell_type": "code",
   "execution_count": 8,
   "metadata": {},
   "outputs": [
    {
     "name": "stdout",
     "output_type": "stream",
     "text": [
      "curl https://www.sec.gov/Archives/edgar/data/1000045/0001193125-17-338757.txt --output data/10-Q/1000045/1000045_20171109.html\n",
      "curl https://www.sec.gov/Archives/edgar/data/1000045/0001193125-17-252199.txt --output data/10-Q/1000045/1000045_20170809.html\n",
      "curl https://www.sec.gov/Archives/edgar/data/1000045/0001193125-18-248315.txt --output data/10-Q/1000045/1000045_20180814.html\n",
      "curl https://www.sec.gov/Archives/edgar/data/1000045/0001193125-18-037381.txt --output data/10-Q/1000045/1000045_20180209.html\n",
      "curl https://www.sec.gov/Archives/edgar/data/1000045/0001193125-17-035551.txt --output data/10-Q/1000045/1000045_20170209.html\n"
     ]
    }
   ],
   "source": [
    "tmp_lst = filing_10q_lst.T.to_dict()\n",
    "for i in tmp_lst:\n",
    "    init_ = 'https://www.sec.gov/Archives'\n",
    "    url_path = '/'.join([init_, tmp_lst[i]['raw_path']])\n",
    "    date_ = tmp_lst[i]['reportDate'].replace('-', '')\n",
    "    data_root = 'data/' + str(tmp_lst[i]['fileType'])\n",
    "    data_folder = '/'.join([data_root, code])\n",
    "    os.makedirs(data_folder, exist_ok=True)\n",
    "    cmd = f'curl {url_path} --output {data_folder}/{code}_{date_}.html'\n",
    "    print(cmd)\n",
    "\n",
    "    process = subprocess.Popen(cmd.split(), stdout=subprocess.PIPE)\n",
    "    output, error = process.communicate()"
   ]
  },
  {
   "cell_type": "markdown",
   "metadata": {},
   "source": [
    "#### 10-K"
   ]
  },
  {
   "cell_type": "code",
   "execution_count": 9,
   "metadata": {},
   "outputs": [
    {
     "name": "stdout",
     "output_type": "stream",
     "text": [
      "   index     Code                    Name fileType  reportDate  \\\n",
      "0      0  1000045  NICHOLAS FINANCIAL INC     10-K  2017-06-14   \n",
      "1     54  1000045  NICHOLAS FINANCIAL INC     10-K  2018-06-27   \n",
      "\n",
      "                                      raw_path  \\\n",
      "0  edgar/data/1000045/0001193125-17-203193.txt   \n",
      "1  edgar/data/1000045/0001193125-18-205637.txt   \n",
      "\n",
      "                                                 url  \n",
      "0  edgar/data/1000045/0001193125-17-203193-index....  \n",
      "1  edgar/data/1000045/0001193125-18-205637-index....  \n"
     ]
    }
   ],
   "source": [
    "filing_10k_lst = idxDF.loc[idxDF['fileType']=='10-K'].reset_index()\n",
    "print(filing_10k_lst)"
   ]
  },
  {
   "cell_type": "code",
   "execution_count": 10,
   "metadata": {},
   "outputs": [
    {
     "name": "stdout",
     "output_type": "stream",
     "text": [
      "curl https://www.sec.gov/Archives/edgar/data/1000045/0001193125-17-203193.txt --output data/10-K/1000045/1000045_20170614.html\n",
      "curl https://www.sec.gov/Archives/edgar/data/1000045/0001193125-18-205637.txt --output data/10-K/1000045/1000045_20180627.html\n"
     ]
    }
   ],
   "source": [
    "tmp_lst = filing_10k_lst.T.to_dict()\n",
    "for i in tmp_lst:\n",
    "    init_ = 'https://www.sec.gov/Archives'\n",
    "    url_path = '/'.join([init_, tmp_lst[i]['raw_path']])\n",
    "    date_ = tmp_lst[i]['reportDate'].replace('-', '')\n",
    "    data_root = 'data/' + str(tmp_lst[i]['fileType'])\n",
    "    data_folder = '/'.join([data_root, code])\n",
    "    os.makedirs(data_folder, exist_ok=True)\n",
    "    cmd = f'curl {url_path} --output {data_folder}/{code}_{date_}.html'\n",
    "    print(cmd)\n",
    "\n",
    "    process = subprocess.Popen(cmd.split(), stdout=subprocess.PIPE)\n",
    "    output, error = process.communicate()"
   ]
  }
 ],
 "metadata": {
  "kernelspec": {
   "display_name": "Python 3",
   "language": "python",
   "name": "python3"
  },
  "language_info": {
   "codemirror_mode": {
    "name": "ipython",
    "version": 3
   },
   "file_extension": ".py",
   "mimetype": "text/x-python",
   "name": "python",
   "nbconvert_exporter": "python",
   "pygments_lexer": "ipython3",
   "version": "3.6.5"
  }
 },
 "nbformat": 4,
 "nbformat_minor": 2
}

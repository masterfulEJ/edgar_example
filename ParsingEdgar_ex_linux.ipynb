{
 "cells": [
  {
   "cell_type": "code",
   "execution_count": null,
   "metadata": {},
   "outputs": [],
   "source": [
    "import os\n",
    "import re\n",
    "import edgar\n",
    "import subprocess\n",
    "import pandas as pd"
   ]
  },
  {
   "cell_type": "code",
   "execution_count": null,
   "metadata": {},
   "outputs": [],
   "source": [
    "import sys\n",
    "print(sys.executable)\n",
    "print(sys.version)\n",
    "print(sys.version_info)"
   ]
  },
  {
   "cell_type": "code",
   "execution_count": null,
   "metadata": {
    "scrolled": true
   },
   "outputs": [],
   "source": [
    "# unload files into 'unload' folder\n",
    "folder = 'unload'\n",
    "startYear = '2017'\n",
    "cmd = f'python run.py -y {startYear} -d {folder}'\n",
    "\n",
    "process = subprocess.Popen(cmd.split(), stdout=subprocess.PIPE)\n",
    "output, error = process.communicate()\n",
    "print('\\n'.join(output.decode(\"utf-8\").split(' - ')))"
   ]
  },
  {
   "cell_type": "code",
   "execution_count": null,
   "metadata": {},
   "outputs": [],
   "source": [
    "from func_tickSearch import cikftick\n",
    "cikftick(['AAPL'])"
   ]
  },
  {
   "cell_type": "code",
   "execution_count": null,
   "metadata": {},
   "outputs": [],
   "source": [
    "# <<< File Lookup Pattern >>>\n",
    "# pattern = r'^\\d{4}-QTR\\d\\.tsv'\n",
    "def edgarPattern(year=None, qtr=None):\n",
    "    pattern = r'^\\d{4}-QTR\\d\\.tsv'\n",
    "    if year is not None:\n",
    "        if isinstance(year, int):\n",
    "            year = str(year)\n",
    "        assert (re.match(r'\\d{4}', year) is not None) & (len(year) == 4), (\n",
    "            \"'year' must be 4-digit integer or string\")\n",
    "    if qtr is not None:\n",
    "        assert (int(qtr) > 0) & (int(qtr) < 5), (\n",
    "            \"'qtr' must be 1-digit integer between 1 and 4\")\n",
    "    \n",
    "    if year is not None:\n",
    "        pattern = pattern.replace('\\d{4}', str(year))\n",
    "    if qtr is not None:\n",
    "        pattern = pattern.replace('QTR\\d', 'QTR' + str(qtr))\n",
    "    return pattern"
   ]
  },
  {
   "cell_type": "code",
   "execution_count": null,
   "metadata": {},
   "outputs": [],
   "source": [
    "# <<< Merging >>>\n",
    "# merge unloaded files into master index in 'mstrIdx' folder\n",
    "mstr_folder = 'mstrIdx'\n",
    "os.makedirs(mstr_folder, exist_ok=True)\n",
    "# cmd = f'cat {folder}/*.tsv > {mstr_folder}/master.tsv'\n",
    "\n",
    "# file_lst = [x for x in os.listdir(folder) if x[-4:]=='.tsv']\n",
    "file_lst = [x for x in os.listdir(folder) if re.match(r'^.+\\.tsv$', x)]\n",
    "with open(f'{mstr_folder}/master.tsv', 'w') as f:\n",
    "    for fname in file_lst:\n",
    "        with open(f'{folder}/{fname}') as infile:\n",
    "            for line in infile:\n",
    "                f.write(line)\n",
    "        print(fname)"
   ]
  },
  {
   "cell_type": "code",
   "execution_count": null,
   "metadata": {},
   "outputs": [],
   "source": [
    "# Select security and find its index\n",
    "code = '1000045'\n",
    "\n",
    "idx_list = []\n",
    "file_lst = [x for x in os.listdir(folder) if re.match(r'^.+\\.tsv$', x)]\n",
    "for file in file_lst:\n",
    "    with open(f'{folder}/{file}') as f:\n",
    "        for line in f:\n",
    "            if code.lstrip('0') in line:\n",
    "                idx_list.append(line)\n",
    "idx_list = [x.split('|') for x in idx_list]"
   ]
  },
  {
   "cell_type": "code",
   "execution_count": null,
   "metadata": {},
   "outputs": [],
   "source": [
    "idxDF = pd.DataFrame(idx_list, columns=['Code', 'Name', 'fileType', 'reportDate', 'raw_path', 'url'])\n",
    "print(idxDF.head())"
   ]
  },
  {
   "cell_type": "code",
   "execution_count": null,
   "metadata": {},
   "outputs": [],
   "source": [
    "idxDF['fileType'].unique()"
   ]
  },
  {
   "cell_type": "markdown",
   "metadata": {},
   "source": [
    "#### 10-K"
   ]
  },
  {
   "cell_type": "code",
   "execution_count": null,
   "metadata": {},
   "outputs": [],
   "source": [
    "filing_10k_lst = idxDF.loc[idxDF['fileType']=='10-K'].reset_index()\n",
    "print(filing_10k_lst)"
   ]
  },
  {
   "cell_type": "code",
   "execution_count": null,
   "metadata": {},
   "outputs": [],
   "source": [
    "tmp_lst = filing_10k_lst.T.to_dict()\n",
    "for i in tmp_lst:\n",
    "    init_ = 'https://www.sec.gov/Archives'\n",
    "    url_path = '/'.join([init_, tmp_lst[i]['raw_path']])\n",
    "    date_ = tmp_lst[i]['reportDate'].replace('-', '')\n",
    "    data_root = 'data/' + str(tmp_lst[i]['fileType'])\n",
    "    data_folder = '/'.join([data_root, code])\n",
    "    os.makedirs(data_folder, exist_ok=True)\n",
    "    cmd = f'curl {url_path} --output {data_folder}/{code}_{date_}.html'\n",
    "    print(cmd)\n",
    "\n",
    "    process = subprocess.Popen(cmd.split(), stdout=subprocess.PIPE)\n",
    "    output, error = process.communicate()"
   ]
  },
  {
   "cell_type": "markdown",
   "metadata": {},
   "source": [
    "#### 10-Q"
   ]
  },
  {
   "cell_type": "code",
   "execution_count": null,
   "metadata": {},
   "outputs": [],
   "source": [
    "filing_10q_lst = idxDF.loc[idxDF['fileType']=='10-Q'].reset_index()\n",
    "print(filing_10q_lst)"
   ]
  },
  {
   "cell_type": "code",
   "execution_count": null,
   "metadata": {},
   "outputs": [],
   "source": [
    "tmp_lst = filing_10q_lst.T.to_dict()\n",
    "for i in tmp_lst:\n",
    "    init_ = 'https://www.sec.gov/Archives'\n",
    "    url_path = '/'.join([init_, tmp_lst[i]['raw_path']])\n",
    "    date_ = tmp_lst[i]['reportDate'].replace('-', '')\n",
    "    data_root = 'data/' + str(tmp_lst[i]['fileType'])\n",
    "    data_folder = '/'.join([data_root, code])\n",
    "    os.makedirs(data_folder, exist_ok=True)\n",
    "    cmd = f'curl {url_path} --output {data_folder}/{code}_{date_}.html'\n",
    "    print(cmd)\n",
    "\n",
    "    process = subprocess.Popen(cmd.split(), stdout=subprocess.PIPE)\n",
    "    output, error = process.communicate()"
   ]
  },
  {
   "cell_type": "markdown",
   "metadata": {},
   "source": [
    "#### 8-K"
   ]
  },
  {
   "cell_type": "code",
   "execution_count": null,
   "metadata": {},
   "outputs": [],
   "source": [
    "filing_8k_lst = idxDF.loc[idxDF['fileType']=='8-K'].reset_index()\n",
    "print(filing_8k_lst)"
   ]
  },
  {
   "cell_type": "code",
   "execution_count": null,
   "metadata": {},
   "outputs": [],
   "source": [
    "tmp_lst = filing_8k_lst.T.to_dict()\n",
    "for i in tmp_lst:\n",
    "    init_ = 'https://www.sec.gov/Archives'\n",
    "    url_path = '/'.join([init_, tmp_lst[i]['raw_path']])\n",
    "    date_ = tmp_lst[i]['reportDate'].replace('-', '')\n",
    "    data_root = 'data/' + str(tmp_lst[i]['fileType'])\n",
    "    data_folder = '/'.join([data_root, code])\n",
    "    os.makedirs(data_folder, exist_ok=True)\n",
    "    cmd = f'curl {url_path} --output {data_folder}/{code}_{date_}.html'\n",
    "    print(cmd)\n",
    "\n",
    "    process = subprocess.Popen(cmd.split(), stdout=subprocess.PIPE)\n",
    "    output, error = process.communicate()"
   ]
  }
 ],
 "metadata": {
  "kernelspec": {
   "display_name": "Python 3",
   "language": "python",
   "name": "python3"
  },
  "language_info": {
   "codemirror_mode": {
    "name": "ipython",
    "version": 3
   },
   "file_extension": ".py",
   "mimetype": "text/x-python",
   "name": "python",
   "nbconvert_exporter": "python",
   "pygments_lexer": "ipython3",
   "version": "3.6.5"
  }
 },
 "nbformat": 4,
 "nbformat_minor": 2
}
